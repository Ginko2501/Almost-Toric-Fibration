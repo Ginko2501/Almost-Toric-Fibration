{
  "cells": [
    {
      "cell_type": "markdown",
      "source": [
        "#README\n",
        "\n",
        "* Decimals\n",
        "  * This program uses the Decimals type to compute up to 10^10 digits with eact precision\n",
        "  * The parameters of the Decimals types is adjustable at the beginning of the program\n",
        "  * Use **D()** to initialize a Decimal type\n",
        "  * To convert decimals into quadratic roots, compute the continued fraction and reverse engineering after the periodic pattern is clear. (See the paper for more details.)\n",
        "\n",
        "* How to Use\n",
        "  * **inti_polydisk(b)** initializes the polydisk P(1,b)\n",
        "  * **mutate(x)** mutates at the i-th vertex\n",
        "  * **plot_nodes()** plots the current polygon\n",
        "  * **print_embd()** prints the embedding for the current polygon"
      ],
      "metadata": {
        "id": "MmHoqEjkhdlF"
      }
    },
    {
      "cell_type": "code",
      "execution_count": null,
      "metadata": {
        "id": "-7hpRWKCCqHY"
      },
      "outputs": [],
      "source": [
        "import math\n",
        "import numpy as np\n",
        "import matplotlib.pyplot as plt"
      ]
    },
    {
      "cell_type": "code",
      "execution_count": null,
      "metadata": {
        "id": "Zh0gkso5YlOA"
      },
      "outputs": [],
      "source": [
        "import decimal\n",
        "from decimal import Decimal as D\n",
        "decimal.getcontext().prec = 10000 # number of digits calculated\n",
        "N = 29 # number of digits printed"
      ]
    },
    {
      "cell_type": "code",
      "execution_count": null,
      "metadata": {
        "id": "1HOSxYsfhGT1"
      },
      "outputs": [],
      "source": [
        "class node (object):\n",
        "  # a node contains a vertex, the nodal_ray attached to that vertex, and the edge departing from that vertex\n",
        "  def __init__ (self, vertex, nodal_ray, edge, affine_length):\n",
        "    self.vertex = [D(vertex[0]), D(vertex[1])]\n",
        "    self.nodal_ray = [D(nodal_ray[0]), D(nodal_ray[1])]\n",
        "    self.edge = [D(edge[0]), D(edge[1])]\n",
        "    self.affine_length = D(affine_length)"
      ]
    },
    {
      "cell_type": "code",
      "execution_count": null,
      "metadata": {
        "id": "dVBR1DMek3At"
      },
      "outputs": [],
      "source": [
        "def init_polydisk (x):\n",
        "  # initialize polydisk P(1,x)\n",
        "  global n\n",
        "  global nodes\n",
        "\n",
        "  n = 4\n",
        "  nodes = [None] * 4\n",
        "  nodes[0] = node([0,0], [1,1], [0,1], 1.)\n",
        "  nodes[1] = node([0,1], [1,-1], [1,0], x)\n",
        "  nodes[2] = node([x,1], [-1,-1], [0,-1], 1)\n",
        "  nodes[3] = node([x,0], [-1,1], [-1,0], x)"
      ]
    },
    {
      "cell_type": "code",
      "execution_count": null,
      "metadata": {
        "id": "EUeIod3SPLIp"
      },
      "outputs": [],
      "source": [
        "def dist (x,y):\n",
        "  # distance between x and y\n",
        "  return ( (x[0]-y[0])**2 + (x[1]-y[1])**2 ).sqrt()"
      ]
    },
    {
      "cell_type": "code",
      "execution_count": null,
      "metadata": {
        "id": "7oWRqEFuZup0"
      },
      "outputs": [],
      "source": [
        "def dot (mat, vec):\n",
        "  # multiplication of 2*2mat and 2*1vec\n",
        "  return [ mat[0][0]*vec[0]+mat[0][1]*vec[1], mat[1][0]*vec[0]+mat[1][1]*vec[1] ]"
      ]
    },
    {
      "cell_type": "code",
      "execution_count": null,
      "metadata": {
        "id": "NmXjnuKwkTSo"
      },
      "outputs": [],
      "source": [
        "def intersect_one (i,j):\n",
        "  # solve the intersection between i-th nodal ray and j-th edge\n",
        "  global n\n",
        "  global nodes\n",
        "\n",
        "  # copy as local variables\n",
        "  n1 = nodes[i].vertex\n",
        "  n2 = nodes[j].vertex\n",
        "  n3 = nodes[(j+1)%n].vertex\n",
        "  v1 = nodes[i].nodal_ray\n",
        "  v2 = nodes[j].edge\n",
        "\n",
        "  # solve for the intersection point\n",
        "  vec = [ v1[1]*n1[0]-v1[0]*n1[1], v2[1]*n2[0]-v2[0]*n2[1] ]\n",
        "  mat = [[ -v2[0], v1[0] ],\n",
        "       [ -v2[1], v1[1] ]]\n",
        "\n",
        "  itx = dot(mat, vec)\n",
        "  itx[0] = itx[0] / (v1[0]*v2[1] - v1[1]*v2[0])\n",
        "  itx[1] = itx[1] / (v1[0]*v2[1] - v1[1]*v2[0])\n",
        "\n",
        "  # check the intersection is on the edge\n",
        "  if abs(n2[0] - n3[0]) == 0:\n",
        "    lmbda = (itx[1]-n3[1]) / (n2[1]-n3[1])\n",
        "  else:\n",
        "    lmbda = (itx[0]-n3[0]) / (n2[0]-n3[0])\n",
        "  if (lmbda<0 or lmbda>1):\n",
        "    return [-1,-1]\n",
        "    \n",
        "  return itx"
      ]
    },
    {
      "cell_type": "code",
      "execution_count": null,
      "metadata": {
        "id": "O2xjL38SRxHu"
      },
      "outputs": [],
      "source": [
        "def intersect_all (x):\n",
        "  # solve the intersecting edge for the x-th nodal ray\n",
        "  global n\n",
        "  global nodes\n",
        "\n",
        "  # the variables for the intersecting edge\n",
        "  min_edge = x\n",
        "  min_itx = []\n",
        "  min_dis = math.inf\n",
        "  \n",
        "  for i in range(n):\n",
        "    # i is adjacent to x\n",
        "    if (i==x or i==(x-1)%n):\n",
        "      continue\n",
        "\n",
        "    # the itersection of x-th nodal ray and i-th edge is invalid\n",
        "    itx = intersect_one(x,i)\n",
        "    if (itx == [-1,-1]):\n",
        "      continue\n",
        "    \n",
        "    # maintain the closest intersection\n",
        "    dis = dist(nodes[x].vertex, itx)\n",
        "    if (dis < min_dis):\n",
        "      min_edge = i\n",
        "      min_itx = itx\n",
        "      min_dis = dis\n",
        "\n",
        "  return (min_edge, min_itx)"
      ]
    },
    {
      "cell_type": "code",
      "execution_count": null,
      "metadata": {
        "id": "TG2ldMBFlUq3"
      },
      "outputs": [],
      "source": [
        "def solve_matrix (v1, v2, w1, w2):\n",
        "  # solve the eigen-direction\n",
        "  mat = [ [w1[1], -v1[1]],\n",
        "        [-w1[0], v1[0]] ]\n",
        "  \n",
        "  res = [ dot(mat, [v2[0],w2[0]]), \n",
        "        dot(mat, [v2[1],w2[1]]) ]\n",
        "  \n",
        "  res[0][0] = res[0][0] / (v1[0]*w1[1]-v1[1]*w1[0])\n",
        "  res[0][1] = res[0][1] / (v1[0]*w1[1]-v1[1]*w1[0])\n",
        "  res[1][0] = res[1][0] / (v1[0]*w1[1]-v1[1]*w1[0])\n",
        "  res[1][1] = res[1][1] / (v1[0]*w1[1]-v1[1]*w1[0])\n",
        "\n",
        "  return res"
      ]
    },
    {
      "cell_type": "code",
      "execution_count": null,
      "metadata": {
        "id": "aU5Mbp0EVCU5"
      },
      "outputs": [],
      "source": [
        "def sanity_check ():\n",
        "  # check if the mutation was proper and print the result\n",
        "  global n\n",
        "  global nodes\n",
        "\n",
        "  loc = [D(0),D(0)]\n",
        "  for i in range(n):\n",
        "    cur = nodes[i]\n",
        "    print(\"vertex: \", round(cur.vertex[0],N), round(cur.vertex[1],N), end='\\t')\n",
        "    print(\"nodal ray: \", round(cur.nodal_ray[0],N), round(cur.nodal_ray[1],N), end='\\t')\n",
        "    print(\"edge: \", round(cur.edge[0],N), round(cur.edge[1],N), end='\\t')\n",
        "    print(\"affine length: \", round(cur.affine_length,N), end='\\t')\n",
        "    print()\n",
        "\n",
        "    if (dist(loc, cur.vertex) > 1e-10):\n",
        "      print(\"Failed the sanity check at the \", i, \"-th node\")\n",
        "      return\n",
        "\n",
        "    loc[0] = loc[0] + cur.affine_length * cur.edge[0]\n",
        "    loc[1] = loc[1] + cur.affine_length * cur.edge[1]\n",
        "  \n",
        "  print(\"Passed the sanity check.\\n\")"
      ]
    },
    {
      "cell_type": "code",
      "execution_count": null,
      "metadata": {
        "id": "ebyiFQGgdPOX"
      },
      "outputs": [],
      "source": [
        "def mutate_counterclockwise (head, tail, itx):\n",
        "  # mutate with nodal_ray < intersecting edge\n",
        "  global n\n",
        "  global nodes \n",
        "\n",
        "  mat = solve_matrix( nodes[head].nodal_ray, nodes[head].nodal_ray, nodes[head].edge, nodes[(head-1)%n].edge )\n",
        "\n",
        "  # construct the new node\n",
        "  new_length = nodes[tail].affine_length * dist(itx, nodes[(tail+1)%n].vertex) / dist(nodes[tail].vertex, nodes[(tail+1)%n].vertex)\n",
        "  new = node(itx, [-nodes[head].nodal_ray[0], -nodes[head].nodal_ray[1]], nodes[tail].edge, new_length)\n",
        "  nodes = np.insert(nodes, tail+1, new)\n",
        "\n",
        "  # adjust the head and tail node\n",
        "  nodes[tail].affine_length -= new_length\n",
        "  nodes[head-1].affine_length += nodes[head].affine_length\n",
        "  nodes = np.delete(nodes, head)\n",
        "\n",
        "  # update remaining nodes\n",
        "  for i in range(head, tail):\n",
        "    pre = nodes[(i-1)%n]\n",
        "    nodes[i].vertex[0] = pre.vertex[0] + pre.affine_length * pre.edge[0]\n",
        "    nodes[i].vertex[1] = pre.vertex[1] + pre.affine_length * pre.edge[1]\n",
        "    nodes[i].nodal_ray = dot(mat, nodes[i].nodal_ray)\n",
        "    nodes[i].edge = dot(mat, nodes[i].edge)\n",
        "\n",
        "  sanity_check()"
      ]
    },
    {
      "cell_type": "code",
      "execution_count": null,
      "metadata": {
        "id": "gC4tB9DbdUFM"
      },
      "outputs": [],
      "source": [
        "def mutate_clockwise (head, tail, itx):\n",
        "  # mutate with nodal_ray > intersecting edge\n",
        "  global n\n",
        "  global nodes \n",
        "\n",
        "  mat = solve_matrix( nodes[tail].nodal_ray, nodes[tail].nodal_ray, nodes[(tail-1)%n].edge, nodes[tail].edge )\n",
        "\n",
        "  # construct the new node\n",
        "  new_length = nodes[head].affine_length * dist(itx, nodes[(head+1)%n].vertex) / dist(nodes[head].vertex, nodes[(head+1)%n].vertex)\n",
        "  new = node(itx, [-nodes[tail].nodal_ray[0], -nodes[tail].nodal_ray[1]], nodes[head].edge, new_length)\n",
        "  nodes = np.insert(nodes, head+1, new)\n",
        "\n",
        "  # adjust the old head and tail node\n",
        "  nodes[head].affine_length -= new_length\n",
        "  nodes[tail].affine_length += nodes[tail+1].affine_length\n",
        "  nodes = np.delete(nodes, tail+1)\n",
        "\n",
        "  for i in range(head+1, tail+1):\n",
        "    pre = nodes[(i-1)%n]\n",
        "    nodes[i].vertex[0] = pre.vertex[0] + pre.affine_length * pre.edge[0]\n",
        "    nodes[i].vertex[1] = pre.vertex[1] + pre.affine_length * pre.edge[1]\n",
        "    nodes[i].edge = dot(mat, nodes[i].edge)\n",
        "    # uncomment the following line if \n",
        "    #if (nodes[i-1].affine_length > D(1e-30)):\n",
        "    nodes[i].nodal_ray = dot(mat, nodes[i].nodal_ray)\n",
        "    \n",
        "\n",
        "  sanity_check()"
      ]
    },
    {
      "cell_type": "code",
      "execution_count": null,
      "metadata": {
        "id": "g3B-mw1oX0mM"
      },
      "outputs": [],
      "source": [
        "def mutate (x):\n",
        "  # mutate once by x-th nodal_ray\n",
        "  global n\n",
        "  global nodes\n",
        "\n",
        "  # y is the intersecting edge\n",
        "  # itx is the intersection point\n",
        "  (y, itx) = intersect_all(x)\n",
        "\n",
        "  if (x<y):\n",
        "    mutate_counterclockwise(x,y,itx)\n",
        "    return y\n",
        "  else:\n",
        "    mutate_clockwise(y,x,itx)\n",
        "    return y+1"
      ]
    },
    {
      "cell_type": "code",
      "execution_count": null,
      "metadata": {
        "id": "O3dekyNuAAyh"
      },
      "outputs": [],
      "source": [
        "def plot_nodes():\n",
        "  # credit to Jemma\n",
        "  global n \n",
        "  global nodes\n",
        "\n",
        "  # plot the polygon\n",
        "  shape_list = []\n",
        "  for i in range(0,n):\n",
        "    shape_list.append([float(nodes[i].vertex[0]), float(nodes[i].vertex[1])])\n",
        "  shape_list.append([float(nodes[0].vertex[0]), float(nodes[0].vertex[1])])\n",
        "  xs, ys = zip(*shape_list)\n",
        "\n",
        "  plt.figure(dpi=120)\n",
        "  plt.gca().set_aspect('equal', adjustable='box')\n",
        "  plt.xlim([min(xs)-0.5,max(xs)+0.5])\n",
        "  plt.ylim([min(ys)-0.5,max(ys)+0.5])\n",
        "  plt.plot(xs,ys) \n",
        "\n",
        "  # plot the vertices\n",
        "  for i in range(n):\n",
        "    plt.plot(nodes[i].vertex[0], nodes[i].vertex[1], marker='o', markersize=2, color='black')"
      ]
    },
    {
      "cell_type": "code",
      "execution_count": null,
      "metadata": {
        "id": "lJuSh8zMzG0f"
      },
      "outputs": [],
      "source": [
        "def print_embd ():\n",
        "  # print embedding (z, lambda)\n",
        "  global n\n",
        "  global nodes\n",
        "\n",
        "  x = nodes[0].affine_length\n",
        "  y = nodes[n-1].affine_length\n",
        "  if (x>y):\n",
        "    (x,y) = (y,x)\n",
        "\n",
        "  print(\"Embedding: \", round(y/x,N), round(1/x,N))\n",
        "  print()"
      ]
    },
    {
      "cell_type": "code",
      "source": [
        "# an example that computes the accumulation point for P(1,b)\n",
        "b = (6 + 5 * D(30).sqrt()) / 12\n",
        "\n",
        "init_polydisk(b)\n",
        "plot_nodes()\n",
        "print_embd()\n",
        "\n",
        "mutate(2)\n",
        "plot_nodes()\n",
        "print_embd()\n",
        "\n",
        "mutate(2)\n",
        "plot_nodes()\n",
        "print_embd()\n",
        "\n",
        "mutate(1)\n",
        "plot_nodes()\n",
        "print_embd()\n",
        "\n",
        "mutate(3)\n",
        "plot_nodes()\n",
        "print_embd()\n",
        "\n",
        "mutate(1)\n",
        "plot_nodes()\n",
        "print_embd()\n",
        "\n",
        "mutate(1)\n",
        "plot_nodes()\n",
        "print_embd()\n",
        "\n",
        "mutate(1)\n",
        "plot_nodes()\n",
        "print_embd()\n",
        "\n",
        "mutate(1)\n",
        "plot_nodes()\n",
        "print_embd()"
      ],
      "metadata": {
        "id": "ug24tstYdTX-"
      },
      "execution_count": null,
      "outputs": []
    }
  ],
  "metadata": {
    "colab": {
      "collapsed_sections": [],
      "name": "ATF Demo",
      "provenance": [],
      "private_outputs": true
    },
    "kernelspec": {
      "display_name": "Python 3",
      "name": "python3"
    },
    "language_info": {
      "name": "python"
    },
    "gpuClass": "standard"
  },
  "nbformat": 4,
  "nbformat_minor": 0
}